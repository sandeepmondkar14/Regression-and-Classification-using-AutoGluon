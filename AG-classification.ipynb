{
 "cells": [
  {
   "cell_type": "markdown",
   "id": "ff5a1c72-b06e-42de-8f63-875439ec45da",
   "metadata": {},
   "source": [
    "# # Weather Classification using AutoGluon"
   ]
  },
  {
   "cell_type": "markdown",
   "id": "86edff08-414c-4a9c-8642-788922935aef",
   "metadata": {},
   "source": [
    "# ## Project Overview"
   ]
  },
  {
   "cell_type": "markdown",
   "id": "32dd15af-bfdd-4aa9-99f0-adfcd2512e5b",
   "metadata": {},
   "source": [
    "# **🌍 Wind Speed Classification Using Real-Time Weather Data**\n",
    "\n",
    "This notebook classifies 17 Canadian cities into categories (`Calm`, `Breezy`, and `Windy`) based on wind speed using AutoGluon. It includes data cleaning, preparation, model training, and evaluation steps.\n",
    "\n",
    "---\n",
    "\n"
   ]
  },
  {
   "cell_type": "markdown",
   "id": "cfda058e-3e02-44bd-8c6c-1d3a0ecce587",
   "metadata": {},
   "source": [
    "## **📂 Data Dictionary**"
   ]
  },
  {
   "cell_type": "markdown",
   "id": "55a6873f-9897-4b70-ad63-6e192b272ef5",
   "metadata": {},
   "source": [
    "| **Column Name**       | **Data Type** | **Units**               | **Description**                                                                 |\n",
    "|------------------------|---------------|--------------------------|---------------------------------------------------------------------------------|\n",
    "| `temperature_celsius`  | float         | Degrees Celsius          | Actual temperature measured in degrees Celsius.                                |\n",
    "| `feels_like_celsius`   | float         | Degrees Celsius          | Temperature in degrees Celsius adjusted for human perception due to wind/humidity. |\n",
    "| `humidity`             | integer       | Percentage (%)           | Percentage of moisture present in the air.                                     |\n",
    "| `pressure`             | integer       | Millibars (mbar)         | Atmospheric pressure in millibars (mbar).                                      |\n",
    "| `wind_speed`           | float         | Kilometers per hour (km/hr) | Speed of wind in kilometers per hour.                                           |\n",
    "\n",
    "---"
   ]
  },
  {
   "cell_type": "markdown",
   "id": "64b30e21-34d8-41f4-afd7-6c045dd12550",
   "metadata": {},
   "source": [
    "# ## Step 1: Load Libraries and Dataset"
   ]
  },
  {
   "cell_type": "code",
   "execution_count": 10,
   "id": "8ec8fdaf-4439-4a9a-9892-8dca084d1af5",
   "metadata": {},
   "outputs": [],
   "source": [
    "import pandas as pd\n",
    "from sklearn.model_selection import train_test_split\n",
    "from autogluon.tabular import TabularPredictor\n",
    "import matplotlib.pyplot as plt\n",
    "import seaborn as sns"
   ]
  },
  {
   "cell_type": "code",
   "execution_count": 11,
   "id": "f7a3fc90-2b03-4b4d-b6b6-57288a1806e9",
   "metadata": {},
   "outputs": [],
   "source": [
    "# 📁 Load Data\n",
    "real_time_df = pd.read_csv('C:\\\\Users\\\\biauser\\\\PycharmProjects\\\\PythonProject\\\\weather_data.csv', encoding='latin1')\n",
    "historical_df = pd.read_csv('C:\\\\Users\\\\biauser\\\\PycharmProjects\\\\PythonProject\\\\historical_hourly_data.csv', encoding='latin1')\n",
    "forecast_24h_df = pd.read_csv('C:\\\\Users\\\\biauser\\\\PycharmProjects\\\\PythonProject\\\\24_hour_forecast.csv', encoding='latin1')\n",
    "forecast_14d_df = pd.read_csv('C:\\\\Users\\\\biauser\\\\PycharmProjects\\\\PythonProject\\\\14_day_forecast.csv', encoding='latin1')"
   ]
  },
  {
   "cell_type": "code",
   "execution_count": 25,
   "id": "cf8d12f2-d4fc-4e1e-b105-233781b57a9e",
   "metadata": {},
   "outputs": [],
   "source": [
    "# 🔄 Merge and Clean Data\n",
    "common_columns = ['city', 'temperature_celsius', 'feels_like_celsius', 'humidity', 'pressure', 'wind_speed']\n",
    "weather_df = pd.concat([real_time_df, historical_df, forecast_24h_df, forecast_14d_df], ignore_index=True)\n",
    "weather_df = weather_df[common_columns].dropna()"
   ]
  },
  {
   "cell_type": "code",
   "execution_count": 26,
   "id": "ad134ceb-0306-4415-b777-d7f70436c609",
   "metadata": {
    "scrolled": true
   },
   "outputs": [
    {
     "data": {
      "text/html": [
       "<div>\n",
       "<style scoped>\n",
       "    .dataframe tbody tr th:only-of-type {\n",
       "        vertical-align: middle;\n",
       "    }\n",
       "\n",
       "    .dataframe tbody tr th {\n",
       "        vertical-align: top;\n",
       "    }\n",
       "\n",
       "    .dataframe thead th {\n",
       "        text-align: right;\n",
       "    }\n",
       "</style>\n",
       "<table border=\"1\" class=\"dataframe\">\n",
       "  <thead>\n",
       "    <tr style=\"text-align: right;\">\n",
       "      <th></th>\n",
       "      <th>city</th>\n",
       "      <th>temperature_celsius</th>\n",
       "      <th>feels_like_celsius</th>\n",
       "      <th>humidity</th>\n",
       "      <th>pressure</th>\n",
       "      <th>wind_speed</th>\n",
       "    </tr>\n",
       "  </thead>\n",
       "  <tbody>\n",
       "    <tr>\n",
       "      <th>0</th>\n",
       "      <td>Vancouver</td>\n",
       "      <td>7.20</td>\n",
       "      <td>5.09</td>\n",
       "      <td>73</td>\n",
       "      <td>1030</td>\n",
       "      <td>3.09</td>\n",
       "    </tr>\n",
       "    <tr>\n",
       "      <th>1</th>\n",
       "      <td>Victoria</td>\n",
       "      <td>7.03</td>\n",
       "      <td>4.34</td>\n",
       "      <td>81</td>\n",
       "      <td>1030</td>\n",
       "      <td>4.02</td>\n",
       "    </tr>\n",
       "    <tr>\n",
       "      <th>2</th>\n",
       "      <td>Calgary</td>\n",
       "      <td>2.00</td>\n",
       "      <td>-2.21</td>\n",
       "      <td>58</td>\n",
       "      <td>1025</td>\n",
       "      <td>4.63</td>\n",
       "    </tr>\n",
       "    <tr>\n",
       "      <th>3</th>\n",
       "      <td>Edmonton</td>\n",
       "      <td>4.21</td>\n",
       "      <td>0.39</td>\n",
       "      <td>49</td>\n",
       "      <td>1023</td>\n",
       "      <td>4.92</td>\n",
       "    </tr>\n",
       "    <tr>\n",
       "      <th>4</th>\n",
       "      <td>Regina</td>\n",
       "      <td>5.67</td>\n",
       "      <td>2.62</td>\n",
       "      <td>83</td>\n",
       "      <td>1013</td>\n",
       "      <td>4.12</td>\n",
       "    </tr>\n",
       "  </tbody>\n",
       "</table>\n",
       "</div>"
      ],
      "text/plain": [
       "        city  temperature_celsius  feels_like_celsius  humidity  pressure  \\\n",
       "0  Vancouver                 7.20                5.09        73      1030   \n",
       "1   Victoria                 7.03                4.34        81      1030   \n",
       "2    Calgary                 2.00               -2.21        58      1025   \n",
       "3   Edmonton                 4.21                0.39        49      1023   \n",
       "4     Regina                 5.67                2.62        83      1013   \n",
       "\n",
       "   wind_speed  \n",
       "0        3.09  \n",
       "1        4.02  \n",
       "2        4.63  \n",
       "3        4.92  \n",
       "4        4.12  "
      ]
     },
     "execution_count": 26,
     "metadata": {},
     "output_type": "execute_result"
    }
   ],
   "source": [
    "# 👀 View Sample Data\n",
    "weather_df.head()"
   ]
  },
  {
   "cell_type": "markdown",
   "id": "56a1061c-4a28-4c09-bbb6-165185001960",
   "metadata": {},
   "source": [
    "You can view the full **EDA Report** here: [Exploratory Data Analysis Report - Laptop Dataset](https://sandeepmondkar14.github.io/pages/combined_weather_report.html)."
   ]
  },
  {
   "cell_type": "code",
   "execution_count": null,
   "id": "2acae62d-ff62-41a2-aaa0-4c739c5139da",
   "metadata": {},
   "outputs": [],
   "source": [
    "# 🏷️ Create Target Variable for Wind Speed Classification\n",
    "weather_df['wind_category'] = pd.cut(\n",
    "    weather_df['wind_speed'],\n",
    "    bins=[-1, 3, 15, float('inf')],  # Define wind speed ranges\n",
    "    labels=['Calm', 'Breezy', 'Windy']  # Corresponding categories\n",
    ")"
   ]
  },
  {
   "cell_type": "code",
   "execution_count": 28,
   "id": "108bedeb-3e0f-4942-88e1-24a5d3c79e2d",
   "metadata": {},
   "outputs": [
    {
     "name": "stdout",
     "output_type": "stream",
     "text": [
      "Wind Speed Category Distribution:\n",
      "wind_category\n",
      "Breezy    738\n",
      "Calm      284\n",
      "Windy       1\n",
      "Name: count, dtype: int64\n"
     ]
    }
   ],
   "source": [
    "# Check the distribution of the categories\n",
    "print(\"Wind Speed Category Distribution:\")\n",
    "print(weather_df['wind_category'].value_counts())"
   ]
  },
  {
   "cell_type": "code",
   "execution_count": 29,
   "id": "41238e9a-f94e-4eac-a86c-abe4c617ae5a",
   "metadata": {},
   "outputs": [],
   "source": [
    "# ✨ Data Preparation\n",
    "target = 'wind_category'\n",
    "X = weather_df.drop(columns=[target])\n",
    "y = weather_df[target]"
   ]
  },
  {
   "cell_type": "code",
   "execution_count": 30,
   "id": "47538a2e-3a37-4a9b-867f-308612e5b2f2",
   "metadata": {},
   "outputs": [],
   "source": [
    "# Split the dataset into training and testing sets\n",
    "X_train, X_test, y_train, y_test = train_test_split(X, y, test_size=0.2, random_state=42)"
   ]
  },
  {
   "cell_type": "code",
   "execution_count": 31,
   "id": "3f665bd5-a706-4cda-9afb-20696b008364",
   "metadata": {},
   "outputs": [],
   "source": [
    "# Combine X_train and y_train into a single DataFrame for AutoGluon\n",
    "train_data = pd.concat([X_train, y_train], axis=1)\n",
    "test_data = pd.concat([X_test, y_test], axis=1)"
   ]
  },
  {
   "cell_type": "code",
   "execution_count": 32,
   "id": "11b0f67b-a343-49c2-b6fe-078fd5975083",
   "metadata": {},
   "outputs": [
    {
     "name": "stderr",
     "output_type": "stream",
     "text": [
      "No path specified. Models will be saved in: \"AutogluonModels\\ag-20250415_012133\"\n",
      "Verbosity: 2 (Standard Logging)\n",
      "=================== System Info ===================\n",
      "AutoGluon Version:  1.2\n",
      "Python Version:     3.11.11\n",
      "Operating System:   Windows\n",
      "Platform Machine:   AMD64\n",
      "Platform Version:   10.0.19045\n",
      "CPU Count:          4\n",
      "Memory Avail:       8.64 GB / 16.00 GB (54.0%)\n",
      "Disk Space Avail:   37.43 GB / 126.51 GB (29.6%)\n",
      "===================================================\n",
      "No presets specified! To achieve strong results with AutoGluon, it is recommended to use the available presets. Defaulting to `'medium'`...\n",
      "\tRecommended Presets (For more details refer to https://auto.gluon.ai/stable/tutorials/tabular/tabular-essentials.html#presets):\n",
      "\tpresets='experimental' : New in v1.2: Pre-trained foundation model + parallel fits. The absolute best accuracy without consideration for inference speed. Does not support GPU.\n",
      "\tpresets='best'         : Maximize accuracy. Recommended for most users. Use in competitions and benchmarks.\n",
      "\tpresets='high'         : Strong accuracy with fast inference speed.\n",
      "\tpresets='good'         : Good accuracy with very fast inference speed.\n",
      "\tpresets='medium'       : Fast training time, ideal for initial prototyping.\n",
      "Beginning AutoGluon training ...\n",
      "AutoGluon will save models to \"C:\\Users\\biauser\\Downloads\\AutogluonModels\\ag-20250415_012133\"\n",
      "Train Data Rows:    818\n",
      "Train Data Columns: 6\n",
      "Label Column:       wind_category\n",
      "Problem Type:       multiclass\n",
      "Preprocessing data ...\n",
      "Warning: Some classes in the training set have fewer than 10 examples. AutoGluon will only keep 2 out of 3 classes for training and will not try to predict the rare classes. To keep more classes, increase the number of datapoints from these rare classes in the training data or reduce label_count_threshold.\n",
      "Selected class <--> label mapping:  class 1 = 1, class 0 = 0\n",
      "Train Data Class Count: 2\n",
      "Using Feature Generators to preprocess the data ...\n",
      "Fitting AutoMLPipelineFeatureGenerator...\n",
      "\tAvailable Memory:                    8852.09 MB\n",
      "\tTrain Data (Original)  Memory Usage: 0.08 MB (0.0% of available memory)\n",
      "\tInferring data type of each feature based on column values. Set feature_metadata_in to manually specify special dtypes of the features.\n",
      "\tStage 1 Generators:\n",
      "\t\tFitting AsTypeFeatureGenerator...\n",
      "\tStage 2 Generators:\n",
      "\t\tFitting FillNaFeatureGenerator...\n",
      "\tStage 3 Generators:\n",
      "\t\tFitting IdentityFeatureGenerator...\n",
      "\t\tFitting CategoryFeatureGenerator...\n",
      "\t\t\tFitting CategoryMemoryMinimizeFeatureGenerator...\n",
      "\tStage 4 Generators:\n",
      "\t\tFitting DropUniqueFeatureGenerator...\n",
      "\tStage 5 Generators:\n",
      "\t\tFitting DropDuplicatesFeatureGenerator...\n",
      "\tTypes of features in original data (raw dtype, special dtypes):\n",
      "\t\t('float', [])  : 3 | ['temperature_celsius', 'feels_like_celsius', 'wind_speed']\n",
      "\t\t('int', [])    : 2 | ['humidity', 'pressure']\n",
      "\t\t('object', []) : 1 | ['city']\n",
      "\tTypes of features in processed data (raw dtype, special dtypes):\n",
      "\t\t('category', []) : 1 | ['city']\n",
      "\t\t('float', [])    : 3 | ['temperature_celsius', 'feels_like_celsius', 'wind_speed']\n",
      "\t\t('int', [])      : 2 | ['humidity', 'pressure']\n",
      "\t0.2s = Fit runtime\n",
      "\t6 features in original data used to generate 6 features in processed data.\n",
      "\tTrain Data (Processed) Memory Usage: 0.03 MB (0.0% of available memory)\n",
      "Data preprocessing and feature engineering runtime = 0.26s ...\n",
      "AutoGluon will gauge predictive performance using evaluation metric: 'accuracy'\n",
      "\tTo change this, specify the eval_metric parameter of Predictor()\n",
      "Automatically generating train/validation split with holdout_frac=0.2, Train Rows: 654, Val Rows: 164\n",
      "User-specified model hyperparameters to be fit:\n",
      "{\n",
      "\t'NN_TORCH': [{}],\n",
      "\t'GBM': [{'extra_trees': True, 'ag_args': {'name_suffix': 'XT'}}, {}, {'learning_rate': 0.03, 'num_leaves': 128, 'feature_fraction': 0.9, 'min_data_in_leaf': 3, 'ag_args': {'name_suffix': 'Large', 'priority': 0, 'hyperparameter_tune_kwargs': None}}],\n",
      "\t'CAT': [{}],\n",
      "\t'XGB': [{}],\n",
      "\t'FASTAI': [{}],\n",
      "\t'RF': [{'criterion': 'gini', 'ag_args': {'name_suffix': 'Gini', 'problem_types': ['binary', 'multiclass']}}, {'criterion': 'entropy', 'ag_args': {'name_suffix': 'Entr', 'problem_types': ['binary', 'multiclass']}}, {'criterion': 'squared_error', 'ag_args': {'name_suffix': 'MSE', 'problem_types': ['regression', 'quantile']}}],\n",
      "\t'XT': [{'criterion': 'gini', 'ag_args': {'name_suffix': 'Gini', 'problem_types': ['binary', 'multiclass']}}, {'criterion': 'entropy', 'ag_args': {'name_suffix': 'Entr', 'problem_types': ['binary', 'multiclass']}}, {'criterion': 'squared_error', 'ag_args': {'name_suffix': 'MSE', 'problem_types': ['regression', 'quantile']}}],\n",
      "\t'KNN': [{'weights': 'uniform', 'ag_args': {'name_suffix': 'Unif'}}, {'weights': 'distance', 'ag_args': {'name_suffix': 'Dist'}}],\n",
      "}\n",
      "Fitting 13 L1 models, fit_strategy=\"sequential\" ...\n",
      "Fitting model: KNeighborsUnif ...\n",
      "\t0.8659\t = Validation score   (accuracy)\n",
      "\t0.02s\t = Training   runtime\n",
      "\t0.05s\t = Validation runtime\n",
      "Fitting model: KNeighborsDist ...\n",
      "\t0.872\t = Validation score   (accuracy)\n",
      "\t0.02s\t = Training   runtime\n",
      "\t0.21s\t = Validation runtime\n",
      "Fitting model: LightGBMXT ...\n",
      "\t0.9939\t = Validation score   (accuracy)\n",
      "\t0.73s\t = Training   runtime\n",
      "\t0.0s\t = Validation runtime\n",
      "Fitting model: LightGBM ...\n",
      "\t1.0\t = Validation score   (accuracy)\n",
      "\t0.56s\t = Training   runtime\n",
      "\t0.01s\t = Validation runtime\n",
      "Fitting model: RandomForestGini ...\n",
      "\t1.0\t = Validation score   (accuracy)\n",
      "\t1.24s\t = Training   runtime\n",
      "\t0.1s\t = Validation runtime\n",
      "Fitting model: RandomForestEntr ...\n",
      "\t1.0\t = Validation score   (accuracy)\n",
      "\t1.22s\t = Training   runtime\n",
      "\t0.1s\t = Validation runtime\n",
      "Fitting model: CatBoost ...\n",
      "\t1.0\t = Validation score   (accuracy)\n",
      "\t7.62s\t = Training   runtime\n",
      "\t0.0s\t = Validation runtime\n",
      "Fitting model: ExtraTreesGini ...\n",
      "\t0.9878\t = Validation score   (accuracy)\n",
      "\t1.21s\t = Training   runtime\n",
      "\t0.12s\t = Validation runtime\n",
      "Fitting model: ExtraTreesEntr ...\n",
      "\t0.9817\t = Validation score   (accuracy)\n",
      "\t1.27s\t = Training   runtime\n",
      "\t0.1s\t = Validation runtime\n",
      "Fitting model: NeuralNetFastAI ...\n",
      "\t0.9939\t = Validation score   (accuracy)\n",
      "\t1.57s\t = Training   runtime\n",
      "\t0.01s\t = Validation runtime\n",
      "Fitting model: XGBoost ...\n",
      "\t0.9939\t = Validation score   (accuracy)\n",
      "\t0.29s\t = Training   runtime\n",
      "\t0.01s\t = Validation runtime\n",
      "Fitting model: NeuralNetTorch ...\n",
      "\t0.9817\t = Validation score   (accuracy)\n",
      "\t3.72s\t = Training   runtime\n",
      "\t0.01s\t = Validation runtime\n",
      "Fitting model: LightGBMLarge ...\n",
      "\t1.0\t = Validation score   (accuracy)\n",
      "\t0.95s\t = Training   runtime\n",
      "\t0.0s\t = Validation runtime\n",
      "Fitting model: WeightedEnsemble_L2 ...\n",
      "\tEnsemble Weights: {'LightGBM': 1.0}\n",
      "\t1.0\t = Validation score   (accuracy)\n",
      "\t0.15s\t = Training   runtime\n",
      "\t0.0s\t = Validation runtime\n",
      "AutoGluon training complete, total runtime = 22.16s ... Best model: WeightedEnsemble_L2 | Estimated inference throughput: 20503.9 rows/s (164 batch size)\n",
      "TabularPredictor saved. To load, use: predictor = TabularPredictor.load(\"C:\\Users\\biauser\\Downloads\\AutogluonModels\\ag-20250415_012133\")\n"
     ]
    }
   ],
   "source": [
    "# 🚀 Train AutoGluon Classifier\n",
    "predictor = TabularPredictor(label=target, problem_type='multiclass').fit(train_data)"
   ]
  },
  {
   "cell_type": "code",
   "execution_count": 33,
   "id": "4e1eb6d8-97f5-40c4-95a6-833443e32f15",
   "metadata": {},
   "outputs": [
    {
     "name": "stdout",
     "output_type": "stream",
     "text": [
      "Classification Performance:\n",
      "{'accuracy': 0.9951219512195122, 'balanced_accuracy': 0.666666666666667, 'mcc': 0.9860468532787814}\n"
     ]
    }
   ],
   "source": [
    "# 📊 Evaluate the Classification Model\n",
    "performance = predictor.evaluate(test_data)\n",
    "print(\"Classification Performance:\")\n",
    "print(performance)"
   ]
  },
  {
   "cell_type": "code",
   "execution_count": 34,
   "id": "6e10a55a-6c8c-4a02-acff-d70bd71be559",
   "metadata": {},
   "outputs": [
    {
     "name": "stderr",
     "output_type": "stream",
     "text": [
      "C:\\Users\\biauser\\miniconda3\\envs\\AG\\Lib\\site-packages\\fastai\\learner.py:455: UserWarning: load_learner` uses Python's insecure pickle module, which can execute malicious arbitrary code when loading. Only load files you trust.\n",
      "If you only need to load model weights and optimizer state, use the safe `Learner.load` instead.\n",
      "  warn(\"load_learner` uses Python's insecure pickle module, which can execute malicious arbitrary code when loading. Only load files you trust.\\nIf you only need to load model weights and optimizer state, use the safe `Learner.load` instead.\")\n"
     ]
    },
    {
     "name": "stdout",
     "output_type": "stream",
     "text": [
      "                  model  score_test  score_val eval_metric  pred_time_test  \\\n",
      "0              LightGBM    0.995122   1.000000    accuracy        0.004997   \n",
      "1   WeightedEnsemble_L2    0.995122   1.000000    accuracy        0.007990   \n",
      "2              CatBoost    0.995122   1.000000    accuracy        0.020338   \n",
      "3         LightGBMLarge    0.995122   1.000000    accuracy        0.037002   \n",
      "4      RandomForestEntr    0.995122   1.000000    accuracy        0.129043   \n",
      "5      RandomForestGini    0.995122   1.000000    accuracy        0.153998   \n",
      "6               XGBoost    0.990244   0.993902    accuracy        0.069005   \n",
      "7       NeuralNetFastAI    0.990244   0.993902    accuracy        0.084123   \n",
      "8            LightGBMXT    0.985366   0.993902    accuracy        0.051002   \n",
      "9        ExtraTreesEntr    0.975610   0.981707    accuracy        0.140203   \n",
      "10       ExtraTreesGini    0.975610   0.987805    accuracy        0.143379   \n",
      "11       NeuralNetTorch    0.970732   0.981707    accuracy        0.042000   \n",
      "12       KNeighborsUnif    0.887805   0.865854    accuracy        0.042000   \n",
      "13       KNeighborsDist    0.887805   0.871951    accuracy        0.049000   \n",
      "\n",
      "    pred_time_val  fit_time  pred_time_test_marginal  pred_time_val_marginal  \\\n",
      "0        0.006004  0.562001                 0.004997                0.006004   \n",
      "1        0.007998  0.712003                 0.002993                0.001994   \n",
      "2        0.003011  7.620084                 0.020338                0.003011   \n",
      "3        0.004021  0.952003                 0.037002                0.004021   \n",
      "4        0.097030  1.223704                 0.129043                0.097030   \n",
      "5        0.100549  1.242042                 0.153998                0.100549   \n",
      "6        0.012017  0.293998                 0.069005                0.012017   \n",
      "7        0.014000  1.571012                 0.084123                0.014000   \n",
      "8        0.003995  0.734010                 0.051002                0.003995   \n",
      "9        0.103000  1.266665                 0.140203                0.103000   \n",
      "10       0.119795  1.212460                 0.143379                0.119795   \n",
      "11       0.009009  3.718032                 0.042000                0.009009   \n",
      "12       0.048000  0.020000                 0.042000                0.048000   \n",
      "13       0.210029  0.015001                 0.049000                0.210029   \n",
      "\n",
      "    fit_time_marginal  stack_level  can_infer  fit_order  \n",
      "0            0.562001            1       True          4  \n",
      "1            0.150002            2       True         14  \n",
      "2            7.620084            1       True          7  \n",
      "3            0.952003            1       True         13  \n",
      "4            1.223704            1       True          6  \n",
      "5            1.242042            1       True          5  \n",
      "6            0.293998            1       True         11  \n",
      "7            1.571012            1       True         10  \n",
      "8            0.734010            1       True          3  \n",
      "9            1.266665            1       True          9  \n",
      "10           1.212460            1       True          8  \n",
      "11           3.718032            1       True         12  \n",
      "12           0.020000            1       True          1  \n",
      "13           0.015001            1       True          2  \n"
     ]
    }
   ],
   "source": [
    "# 🔍 View Leaderboard and Feature Importance\n",
    "print(predictor.leaderboard(test_data))"
   ]
  },
  {
   "cell_type": "code",
   "execution_count": 35,
   "id": "a0902535-9e57-49a4-bf04-5576ae375e05",
   "metadata": {},
   "outputs": [
    {
     "name": "stderr",
     "output_type": "stream",
     "text": [
      "Computing feature importance via permutation shuffling for 6 features using 204 rows with 5 shuffle sets...\n",
      "\t0.84s\t= Expected runtime (0.17s per shuffle set)\n",
      "\t0.25s\t= Actual runtime (Completed 5 of 5 shuffle sets)\n"
     ]
    },
    {
     "name": "stdout",
     "output_type": "stream",
     "text": [
      "                     importance    stddev   p_value  n  p99_high   p99_low\n",
      "wind_speed             0.322549  0.025329  0.000005  5  0.374703  0.270395\n",
      "temperature_celsius    0.012745  0.002685  0.000223  5  0.018273  0.007217\n",
      "feels_like_celsius     0.010784  0.004101  0.002091  5  0.019229  0.002340\n",
      "city                   0.000000  0.000000  0.500000  5  0.000000  0.000000\n",
      "humidity               0.000000  0.000000  0.500000  5  0.000000  0.000000\n",
      "pressure               0.000000  0.000000  0.500000  5  0.000000  0.000000\n"
     ]
    }
   ],
   "source": [
    "# 🔍 View Feature Importance\n",
    "print(predictor.feature_importance(test_data))"
   ]
  },
  {
   "cell_type": "code",
   "execution_count": 40,
   "id": "48c88dee-d133-4f62-b268-970267cb210b",
   "metadata": {},
   "outputs": [
    {
     "name": "stdout",
     "output_type": "stream",
     "text": [
      "            city  wind_speed wind_category\n",
      "0      Vancouver        3.09        Breezy\n",
      "1       Victoria        4.02        Breezy\n",
      "2        Calgary        4.63        Breezy\n",
      "3       Edmonton        4.92        Breezy\n",
      "4         Regina        4.12        Breezy\n",
      "...          ...         ...           ...\n",
      "1018  St. John's        8.56        Breezy\n",
      "1019  St. John's        6.68        Breezy\n",
      "1020  St. John's        3.93        Breezy\n",
      "1021  St. John's        4.14        Breezy\n",
      "1022  St. John's        6.21        Breezy\n",
      "\n",
      "[1023 rows x 3 columns]\n"
     ]
    }
   ],
   "source": [
    "# ✅ Display the classified cities\n",
    "classified_cities = weather_df[['city', 'wind_speed', 'wind_category']]\n",
    "print(classified_cities)"
   ]
  },
  {
   "cell_type": "markdown",
   "id": "b92159a0-84c2-4356-8b6c-56c3ab56e3e9",
   "metadata": {},
   "source": [
    "# **🌬 Wind Speed Classification for 17 Canadian Cities**"
   ]
  },
  {
   "cell_type": "markdown",
   "id": "de8fc35b-c809-4b39-b8ba-0bd790ca5d54",
   "metadata": {},
   "source": [
    "## **Conclusion**"
   ]
  },
  {
   "cell_type": "markdown",
   "id": "a234dcde-1d3d-461d-bb98-9b6ac685fe74",
   "metadata": {},
   "source": [
    "The classification of wind speed for 17 Canadian cities reveals the following key insights:\n",
    "- **Calm**: Only two cities—Toronto and Ottawa—fall under this category, with wind speeds below 3 km/hr.\n",
    "- **Breezy**: The majority of cities (15 out of 17) are categorized as `Breezy`, with wind speeds ranging between 3 km/hr and 15 km/hr.\n",
    "- **Windy**: None of the cities in the dataset meet the threshold of wind speeds exceeding 15 km/hr.\n",
    "\n",
    "The dominance of `Breezy` classifications across most cities highlights typical moderate wind conditions prevalent in the dataset.\n",
    "\n",
    "---"
   ]
  },
  {
   "cell_type": "markdown",
   "id": "b94188b0-ae42-463a-8216-b1895d02bd28",
   "metadata": {},
   "source": [
    "## **Summary**"
   ]
  },
  {
   "cell_type": "markdown",
   "id": "859794c2-4bd3-48e9-9fdb-4caa7bd9e41f",
   "metadata": {},
   "source": [
    "This workflow for classifying wind speed included the following steps:\n",
    "1. **Data Cleaning**:\n",
    "   - Filtered the dataset to focus on `city` and `wind_speed` attributes.\n",
    "   - Handled missing values to ensure clean and reliable data.\n",
    "   \n",
    "2. **Target Variable Creation**:\n",
    "   - Defined three categories for wind speed:\n",
    "     - **Calm**: Wind speed < 3 km/hr.\n",
    "     - **Breezy**: Wind speed between 3 km/hr and 15 km/hr.\n",
    "     - **Windy**: Wind speed > 15 km/hr.\n",
    "   - Classified cities accordingly using the `pd.cut()` function.\n",
    "\n",
    "3. **Classification Results**:\n",
    "   - **Calm**: Cities with low wind speeds, including Toronto and Ottawa.\n",
    "   - **Breezy**: Cities with moderate wind speeds, accounting for the majority of the dataset.\n",
    "   - **Windy**: None of the cities fell under this category, as wind speeds in the dataset did not exceed 15 km/hr.\n",
    "\n",
    "This analysis provides a clear understanding of wind conditions across cities, and it lays the groundwork for further exploration, such as integrating additional weather attributes for classification or analyzing seasonal wind variations."
   ]
  }
 ],
 "metadata": {
  "kernelspec": {
   "display_name": "Python 3 (ipykernel)",
   "language": "python",
   "name": "python3"
  },
  "language_info": {
   "codemirror_mode": {
    "name": "ipython",
    "version": 3
   },
   "file_extension": ".py",
   "mimetype": "text/x-python",
   "name": "python",
   "nbconvert_exporter": "python",
   "pygments_lexer": "ipython3",
   "version": "3.11.11"
  }
 },
 "nbformat": 4,
 "nbformat_minor": 5
}
