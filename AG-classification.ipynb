{
 "cells": [
  {
   "cell_type": "markdown",
   "id": "ff5a1c72-b06e-42de-8f63-875439ec45da",
   "metadata": {},
   "source": [
    "# # Weather Classification using AutoGluon"
   ]
  },
  {
   "cell_type": "markdown",
   "id": "86edff08-414c-4a9c-8642-788922935aef",
   "metadata": {},
   "source": [
    "# ## Project Overview"
   ]
  },
  {
   "cell_type": "markdown",
   "id": "0e4480f0-5a54-41f1-9dbe-ff94a114002f",
   "metadata": {},
   "source": [
    "# This notebook uses weather data from 17 Canadian cities to perform a **classification** task. \n",
    "# The continuous temperature column (`temperature_celsius`) is transformed into temperature categories:\n",
    "# - **Low**: Temperature below 0°C\n",
    "# - **Moderate**: 0°C to 20°C\n",
    "# - **High**: Above 20°C"
   ]
  },
  {
   "cell_type": "markdown",
   "id": "cfda058e-3e02-44bd-8c6c-1d3a0ecce587",
   "metadata": {},
   "source": [
    "## **📂 Data Dictionary**"
   ]
  },
  {
   "cell_type": "markdown",
   "id": "55a6873f-9897-4b70-ad63-6e192b272ef5",
   "metadata": {},
   "source": [
    "| **Column Name**       | **Data Type** | **Units**               | **Description**                                                                 |\n",
    "|------------------------|---------------|--------------------------|---------------------------------------------------------------------------------|\n",
    "| `temperature_celsius`  | float         | Degrees Celsius          | Actual temperature measured in degrees Celsius.                                |\n",
    "| `feels_like_celsius`   | float         | Degrees Celsius          | Temperature in degrees Celsius adjusted for human perception due to wind/humidity. |\n",
    "| `humidity`             | integer       | Percentage (%)           | Percentage of moisture present in the air.                                     |\n",
    "| `pressure`             | integer       | Millibars (mbar)         | Atmospheric pressure in millibars (mbar).                                      |\n",
    "| `wind_speed`           | float         | Kilometers per hour (km/hr) | Speed of wind in kilometers per hour.                                           |\n",
    "\n",
    "---"
   ]
  },
  {
   "cell_type": "markdown",
   "id": "64b30e21-34d8-41f4-afd7-6c045dd12550",
   "metadata": {},
   "source": [
    "# ## Step 1: Load Libraries and Dataset"
   ]
  },
  {
   "cell_type": "code",
   "execution_count": 1,
   "id": "8ec8fdaf-4439-4a9a-9892-8dca084d1af5",
   "metadata": {},
   "outputs": [],
   "source": [
    "import pandas as pd\n",
    "from sklearn.model_selection import train_test_split\n",
    "from autogluon.tabular import TabularPredictor\n",
    "import matplotlib.pyplot as plt\n",
    "import seaborn as sns"
   ]
  },
  {
   "cell_type": "code",
   "execution_count": 2,
   "id": "f7a3fc90-2b03-4b4d-b6b6-57288a1806e9",
   "metadata": {},
   "outputs": [],
   "source": [
    "# 📁 Load Data\n",
    "real_time_df = pd.read_csv('C:\\\\Users\\\\biauser\\\\PycharmProjects\\\\PythonProject\\\\weather_data.csv', encoding='latin1')\n",
    "historical_df = pd.read_csv('C:\\\\Users\\\\biauser\\\\PycharmProjects\\\\PythonProject\\\\historical_hourly_data.csv', encoding='latin1')\n",
    "forecast_24h_df = pd.read_csv('C:\\\\Users\\\\biauser\\\\PycharmProjects\\\\PythonProject\\\\24_hour_forecast.csv', encoding='latin1')\n",
    "forecast_14d_df = pd.read_csv('C:\\\\Users\\\\biauser\\\\PycharmProjects\\\\PythonProject\\\\14_day_forecast.csv', encoding='latin1')"
   ]
  },
  {
   "cell_type": "code",
   "execution_count": 3,
   "id": "cf8d12f2-d4fc-4e1e-b105-233781b57a9e",
   "metadata": {},
   "outputs": [],
   "source": [
    "# 🔄 Merge and Clean Data\n",
    "common_columns = ['temperature_celsius', 'feels_like_celsius', 'humidity', 'pressure', 'wind_speed']\n",
    "weather_df = pd.concat([real_time_df, historical_df, forecast_24h_df, forecast_14d_df], ignore_index=True)\n",
    "weather_df = weather_df[common_columns].dropna()"
   ]
  },
  {
   "cell_type": "code",
   "execution_count": 4,
   "id": "ad134ceb-0306-4415-b777-d7f70436c609",
   "metadata": {},
   "outputs": [
    {
     "data": {
      "text/html": [
       "<div>\n",
       "<style scoped>\n",
       "    .dataframe tbody tr th:only-of-type {\n",
       "        vertical-align: middle;\n",
       "    }\n",
       "\n",
       "    .dataframe tbody tr th {\n",
       "        vertical-align: top;\n",
       "    }\n",
       "\n",
       "    .dataframe thead th {\n",
       "        text-align: right;\n",
       "    }\n",
       "</style>\n",
       "<table border=\"1\" class=\"dataframe\">\n",
       "  <thead>\n",
       "    <tr style=\"text-align: right;\">\n",
       "      <th></th>\n",
       "      <th>temperature_celsius</th>\n",
       "      <th>feels_like_celsius</th>\n",
       "      <th>humidity</th>\n",
       "      <th>pressure</th>\n",
       "      <th>wind_speed</th>\n",
       "    </tr>\n",
       "  </thead>\n",
       "  <tbody>\n",
       "    <tr>\n",
       "      <th>0</th>\n",
       "      <td>7.20</td>\n",
       "      <td>5.09</td>\n",
       "      <td>73</td>\n",
       "      <td>1030</td>\n",
       "      <td>3.09</td>\n",
       "    </tr>\n",
       "    <tr>\n",
       "      <th>1</th>\n",
       "      <td>7.03</td>\n",
       "      <td>4.34</td>\n",
       "      <td>81</td>\n",
       "      <td>1030</td>\n",
       "      <td>4.02</td>\n",
       "    </tr>\n",
       "    <tr>\n",
       "      <th>2</th>\n",
       "      <td>2.00</td>\n",
       "      <td>-2.21</td>\n",
       "      <td>58</td>\n",
       "      <td>1025</td>\n",
       "      <td>4.63</td>\n",
       "    </tr>\n",
       "    <tr>\n",
       "      <th>3</th>\n",
       "      <td>4.21</td>\n",
       "      <td>0.39</td>\n",
       "      <td>49</td>\n",
       "      <td>1023</td>\n",
       "      <td>4.92</td>\n",
       "    </tr>\n",
       "    <tr>\n",
       "      <th>4</th>\n",
       "      <td>5.67</td>\n",
       "      <td>2.62</td>\n",
       "      <td>83</td>\n",
       "      <td>1013</td>\n",
       "      <td>4.12</td>\n",
       "    </tr>\n",
       "  </tbody>\n",
       "</table>\n",
       "</div>"
      ],
      "text/plain": [
       "   temperature_celsius  feels_like_celsius  humidity  pressure  wind_speed\n",
       "0                 7.20                5.09        73      1030        3.09\n",
       "1                 7.03                4.34        81      1030        4.02\n",
       "2                 2.00               -2.21        58      1025        4.63\n",
       "3                 4.21                0.39        49      1023        4.92\n",
       "4                 5.67                2.62        83      1013        4.12"
      ]
     },
     "execution_count": 4,
     "metadata": {},
     "output_type": "execute_result"
    }
   ],
   "source": [
    "# 👀 View Sample Data\n",
    "weather_df.head()"
   ]
  },
  {
   "cell_type": "code",
   "execution_count": 5,
   "id": "9a3e8109-6614-4ffb-ac58-83b55759b9e4",
   "metadata": {},
   "outputs": [],
   "source": [
    "# 🏷️ Create Target Variable for Wind Speed Classification\n",
    "weather_df['wind_category'] = pd.cut(\n",
    "    weather_df['wind_speed'],\n",
    "    bins=[-1, 3, 15, float('inf')],  # Define wind speed ranges\n",
    "    labels=['Calm', 'Breezy', 'Windy']  # Corresponding categories\n",
    ")"
   ]
  },
  {
   "cell_type": "code",
   "execution_count": 6,
   "id": "41238e9a-f94e-4eac-a86c-abe4c617ae5a",
   "metadata": {},
   "outputs": [],
   "source": [
    "# ✨ Data Preparation\n",
    "target = 'wind_category'\n",
    "X = weather_df.drop(columns=[target])\n",
    "y = weather_df[target]"
   ]
  },
  {
   "cell_type": "code",
   "execution_count": 7,
   "id": "47538a2e-3a37-4a9b-867f-308612e5b2f2",
   "metadata": {},
   "outputs": [],
   "source": [
    "# Split the dataset into training and testing sets\n",
    "X_train, X_test, y_train, y_test = train_test_split(X, y, test_size=0.2, random_state=42)"
   ]
  },
  {
   "cell_type": "code",
   "execution_count": 8,
   "id": "3f665bd5-a706-4cda-9afb-20696b008364",
   "metadata": {},
   "outputs": [],
   "source": [
    "# Combine X_train and y_train into a single DataFrame for AutoGluon\n",
    "train_data = pd.concat([X_train, y_train], axis=1)\n",
    "test_data = pd.concat([X_test, y_test], axis=1)"
   ]
  },
  {
   "cell_type": "code",
   "execution_count": 9,
   "id": "11b0f67b-a343-49c2-b6fe-078fd5975083",
   "metadata": {},
   "outputs": [
    {
     "name": "stderr",
     "output_type": "stream",
     "text": [
      "No path specified. Models will be saved in: \"AutogluonModels\\ag-20250415_005518\"\n",
      "Verbosity: 2 (Standard Logging)\n",
      "=================== System Info ===================\n",
      "AutoGluon Version:  1.2\n",
      "Python Version:     3.11.11\n",
      "Operating System:   Windows\n",
      "Platform Machine:   AMD64\n",
      "Platform Version:   10.0.19045\n",
      "CPU Count:          4\n",
      "Memory Avail:       9.06 GB / 16.00 GB (56.6%)\n",
      "Disk Space Avail:   37.45 GB / 126.51 GB (29.6%)\n",
      "===================================================\n",
      "No presets specified! To achieve strong results with AutoGluon, it is recommended to use the available presets. Defaulting to `'medium'`...\n",
      "\tRecommended Presets (For more details refer to https://auto.gluon.ai/stable/tutorials/tabular/tabular-essentials.html#presets):\n",
      "\tpresets='experimental' : New in v1.2: Pre-trained foundation model + parallel fits. The absolute best accuracy without consideration for inference speed. Does not support GPU.\n",
      "\tpresets='best'         : Maximize accuracy. Recommended for most users. Use in competitions and benchmarks.\n",
      "\tpresets='high'         : Strong accuracy with fast inference speed.\n",
      "\tpresets='good'         : Good accuracy with very fast inference speed.\n",
      "\tpresets='medium'       : Fast training time, ideal for initial prototyping.\n",
      "Beginning AutoGluon training ...\n",
      "AutoGluon will save models to \"C:\\Users\\biauser\\Downloads\\AutogluonModels\\ag-20250415_005518\"\n",
      "Train Data Rows:    818\n",
      "Train Data Columns: 5\n",
      "Label Column:       wind_category\n",
      "Problem Type:       multiclass\n",
      "Preprocessing data ...\n",
      "Warning: Some classes in the training set have fewer than 10 examples. AutoGluon will only keep 2 out of 3 classes for training and will not try to predict the rare classes. To keep more classes, increase the number of datapoints from these rare classes in the training data or reduce label_count_threshold.\n",
      "Selected class <--> label mapping:  class 1 = 1, class 0 = 0\n",
      "Train Data Class Count: 2\n",
      "Using Feature Generators to preprocess the data ...\n",
      "Fitting AutoMLPipelineFeatureGenerator...\n",
      "\tAvailable Memory:                    9248.71 MB\n",
      "\tTrain Data (Original)  Memory Usage: 0.03 MB (0.0% of available memory)\n",
      "\tInferring data type of each feature based on column values. Set feature_metadata_in to manually specify special dtypes of the features.\n",
      "\tStage 1 Generators:\n",
      "\t\tFitting AsTypeFeatureGenerator...\n",
      "\tStage 2 Generators:\n",
      "\t\tFitting FillNaFeatureGenerator...\n",
      "\tStage 3 Generators:\n",
      "\t\tFitting IdentityFeatureGenerator...\n",
      "\tStage 4 Generators:\n",
      "\t\tFitting DropUniqueFeatureGenerator...\n",
      "\tStage 5 Generators:\n",
      "\t\tFitting DropDuplicatesFeatureGenerator...\n",
      "\tTypes of features in original data (raw dtype, special dtypes):\n",
      "\t\t('float', []) : 3 | ['temperature_celsius', 'feels_like_celsius', 'wind_speed']\n",
      "\t\t('int', [])   : 2 | ['humidity', 'pressure']\n",
      "\tTypes of features in processed data (raw dtype, special dtypes):\n",
      "\t\t('float', []) : 3 | ['temperature_celsius', 'feels_like_celsius', 'wind_speed']\n",
      "\t\t('int', [])   : 2 | ['humidity', 'pressure']\n",
      "\t0.1s = Fit runtime\n",
      "\t5 features in original data used to generate 5 features in processed data.\n",
      "\tTrain Data (Processed) Memory Usage: 0.03 MB (0.0% of available memory)\n",
      "Data preprocessing and feature engineering runtime = 0.17s ...\n",
      "AutoGluon will gauge predictive performance using evaluation metric: 'accuracy'\n",
      "\tTo change this, specify the eval_metric parameter of Predictor()\n",
      "Automatically generating train/validation split with holdout_frac=0.2, Train Rows: 654, Val Rows: 164\n",
      "User-specified model hyperparameters to be fit:\n",
      "{\n",
      "\t'NN_TORCH': [{}],\n",
      "\t'GBM': [{'extra_trees': True, 'ag_args': {'name_suffix': 'XT'}}, {}, {'learning_rate': 0.03, 'num_leaves': 128, 'feature_fraction': 0.9, 'min_data_in_leaf': 3, 'ag_args': {'name_suffix': 'Large', 'priority': 0, 'hyperparameter_tune_kwargs': None}}],\n",
      "\t'CAT': [{}],\n",
      "\t'XGB': [{}],\n",
      "\t'FASTAI': [{}],\n",
      "\t'RF': [{'criterion': 'gini', 'ag_args': {'name_suffix': 'Gini', 'problem_types': ['binary', 'multiclass']}}, {'criterion': 'entropy', 'ag_args': {'name_suffix': 'Entr', 'problem_types': ['binary', 'multiclass']}}, {'criterion': 'squared_error', 'ag_args': {'name_suffix': 'MSE', 'problem_types': ['regression', 'quantile']}}],\n",
      "\t'XT': [{'criterion': 'gini', 'ag_args': {'name_suffix': 'Gini', 'problem_types': ['binary', 'multiclass']}}, {'criterion': 'entropy', 'ag_args': {'name_suffix': 'Entr', 'problem_types': ['binary', 'multiclass']}}, {'criterion': 'squared_error', 'ag_args': {'name_suffix': 'MSE', 'problem_types': ['regression', 'quantile']}}],\n",
      "\t'KNN': [{'weights': 'uniform', 'ag_args': {'name_suffix': 'Unif'}}, {'weights': 'distance', 'ag_args': {'name_suffix': 'Dist'}}],\n",
      "}\n",
      "Fitting 13 L1 models, fit_strategy=\"sequential\" ...\n",
      "Fitting model: KNeighborsUnif ...\n",
      "\t0.8659\t = Validation score   (accuracy)\n",
      "\t5.22s\t = Training   runtime\n",
      "\t0.02s\t = Validation runtime\n",
      "Fitting model: KNeighborsDist ...\n",
      "\t0.872\t = Validation score   (accuracy)\n",
      "\t0.01s\t = Training   runtime\n",
      "\t0.03s\t = Validation runtime\n",
      "Fitting model: LightGBMXT ...\n",
      "\t0.9939\t = Validation score   (accuracy)\n",
      "\t0.69s\t = Training   runtime\n",
      "\t0.0s\t = Validation runtime\n",
      "Fitting model: LightGBM ...\n",
      "\t1.0\t = Validation score   (accuracy)\n",
      "\t0.5s\t = Training   runtime\n",
      "\t0.0s\t = Validation runtime\n",
      "Fitting model: RandomForestGini ...\n",
      "\t1.0\t = Validation score   (accuracy)\n",
      "\t1.34s\t = Training   runtime\n",
      "\t0.1s\t = Validation runtime\n",
      "Fitting model: RandomForestEntr ...\n",
      "\t1.0\t = Validation score   (accuracy)\n",
      "\t1.22s\t = Training   runtime\n",
      "\t0.1s\t = Validation runtime\n",
      "Fitting model: CatBoost ...\n",
      "\t1.0\t = Validation score   (accuracy)\n",
      "\t1.88s\t = Training   runtime\n",
      "\t0.0s\t = Validation runtime\n",
      "Fitting model: ExtraTreesGini ...\n",
      "\t0.9878\t = Validation score   (accuracy)\n",
      "\t1.33s\t = Training   runtime\n",
      "\t0.11s\t = Validation runtime\n",
      "Fitting model: ExtraTreesEntr ...\n",
      "\t0.9878\t = Validation score   (accuracy)\n",
      "\t1.23s\t = Training   runtime\n",
      "\t0.09s\t = Validation runtime\n",
      "Fitting model: NeuralNetFastAI ...\n",
      "\t1.0\t = Validation score   (accuracy)\n",
      "\t2.4s\t = Training   runtime\n",
      "\t0.03s\t = Validation runtime\n",
      "Fitting model: XGBoost ...\n",
      "\t0.9939\t = Validation score   (accuracy)\n",
      "\t0.26s\t = Training   runtime\n",
      "\t0.02s\t = Validation runtime\n",
      "Fitting model: NeuralNetTorch ...\n",
      "\t0.9878\t = Validation score   (accuracy)\n",
      "\t7.28s\t = Training   runtime\n",
      "\t0.01s\t = Validation runtime\n",
      "Fitting model: LightGBMLarge ...\n",
      "\t1.0\t = Validation score   (accuracy)\n",
      "\t0.65s\t = Training   runtime\n",
      "\t0.0s\t = Validation runtime\n",
      "Fitting model: WeightedEnsemble_L2 ...\n",
      "\tEnsemble Weights: {'LightGBM': 1.0}\n",
      "\t1.0\t = Validation score   (accuracy)\n",
      "\t0.17s\t = Training   runtime\n",
      "\t0.0s\t = Validation runtime\n",
      "AutoGluon training complete, total runtime = 25.49s ... Best model: WeightedEnsemble_L2 | Estimated inference throughput: 40849.6 rows/s (164 batch size)\n",
      "TabularPredictor saved. To load, use: predictor = TabularPredictor.load(\"C:\\Users\\biauser\\Downloads\\AutogluonModels\\ag-20250415_005518\")\n"
     ]
    }
   ],
   "source": [
    "# 🚀 Train AutoGluon Classifier\n",
    "predictor = TabularPredictor(label=target, problem_type='multiclass').fit(train_data)"
   ]
  },
  {
   "cell_type": "code",
   "execution_count": 10,
   "id": "4e1eb6d8-97f5-40c4-95a6-833443e32f15",
   "metadata": {},
   "outputs": [
    {
     "name": "stdout",
     "output_type": "stream",
     "text": [
      "Classification Performance:\n",
      "{'accuracy': 0.9951219512195122, 'balanced_accuracy': 0.666666666666667, 'mcc': 0.9860468532787814}\n"
     ]
    }
   ],
   "source": [
    "# 📊 Evaluate the Classification Model\n",
    "performance = predictor.evaluate(test_data)\n",
    "print(\"Classification Performance:\")\n",
    "print(performance)"
   ]
  },
  {
   "cell_type": "code",
   "execution_count": 12,
   "id": "6e10a55a-6c8c-4a02-acff-d70bd71be559",
   "metadata": {},
   "outputs": [
    {
     "name": "stdout",
     "output_type": "stream",
     "text": [
      "                  model  score_test  score_val eval_metric  pred_time_test  \\\n",
      "0         LightGBMLarge    0.995122   1.000000    accuracy        0.000000   \n",
      "1              LightGBM    0.995122   1.000000    accuracy        0.003997   \n",
      "2   WeightedEnsemble_L2    0.995122   1.000000    accuracy        0.003997   \n",
      "3      RandomForestEntr    0.995122   1.000000    accuracy        0.114561   \n",
      "4      RandomForestGini    0.995122   1.000000    accuracy        0.159568   \n",
      "5            LightGBMXT    0.990244   0.993902    accuracy        0.008204   \n",
      "6               XGBoost    0.990244   0.993902    accuracy        0.014514   \n",
      "7        NeuralNetTorch    0.990244   0.987805    accuracy        0.015645   \n",
      "8       NeuralNetFastAI    0.990244   1.000000    accuracy        0.015731   \n",
      "9              CatBoost    0.985366   1.000000    accuracy        0.006001   \n",
      "10       ExtraTreesEntr    0.985366   0.987805    accuracy        0.115941   \n",
      "11       ExtraTreesGini    0.985366   0.987805    accuracy        0.126770   \n",
      "12       KNeighborsUnif    0.887805   0.865854    accuracy        0.021149   \n",
      "13       KNeighborsDist    0.887805   0.871951    accuracy        0.022503   \n",
      "\n",
      "    pred_time_val  fit_time  pred_time_test_marginal  pred_time_val_marginal  \\\n",
      "0        0.004003  0.648929                 0.000000                0.004003   \n",
      "1        0.003003  0.499682                 0.003997                0.003003   \n",
      "2        0.004015  0.665239                 0.000000                0.001012   \n",
      "3        0.101259  1.218100                 0.114561                0.101259   \n",
      "4        0.095958  1.338158                 0.159568                0.095958   \n",
      "5        0.003008  0.687909                 0.008204                0.003008   \n",
      "6        0.015618  0.263762                 0.014514                0.015618   \n",
      "7        0.006215  7.278453                 0.015645                0.006215   \n",
      "8        0.031251  2.397587                 0.015731                0.031251   \n",
      "9        0.003015  1.879097                 0.006001                0.003015   \n",
      "10       0.092631  1.234766                 0.115941                0.092631   \n",
      "11       0.105788  1.326259                 0.126770                0.105788   \n",
      "12       0.024995  5.219511                 0.021149                0.024995   \n",
      "13       0.026073  0.006907                 0.022503                0.026073   \n",
      "\n",
      "    fit_time_marginal  stack_level  can_infer  fit_order  \n",
      "0            0.648929            1       True         13  \n",
      "1            0.499682            1       True          4  \n",
      "2            0.165557            2       True         14  \n",
      "3            1.218100            1       True          6  \n",
      "4            1.338158            1       True          5  \n",
      "5            0.687909            1       True          3  \n",
      "6            0.263762            1       True         11  \n",
      "7            7.278453            1       True         12  \n",
      "8            2.397587            1       True         10  \n",
      "9            1.879097            1       True          7  \n",
      "10           1.234766            1       True          9  \n",
      "11           1.326259            1       True          8  \n",
      "12           5.219511            1       True          1  \n",
      "13           0.006907            1       True          2  \n"
     ]
    },
    {
     "name": "stderr",
     "output_type": "stream",
     "text": [
      "C:\\Users\\biauser\\miniconda3\\envs\\AG\\Lib\\site-packages\\fastai\\learner.py:455: UserWarning: load_learner` uses Python's insecure pickle module, which can execute malicious arbitrary code when loading. Only load files you trust.\n",
      "If you only need to load model weights and optimizer state, use the safe `Learner.load` instead.\n",
      "  warn(\"load_learner` uses Python's insecure pickle module, which can execute malicious arbitrary code when loading. Only load files you trust.\\nIf you only need to load model weights and optimizer state, use the safe `Learner.load` instead.\")\n"
     ]
    }
   ],
   "source": [
    "# 🔍 View Leaderboard and Feature Importance\n",
    "print(predictor.leaderboard(test_data))"
   ]
  },
  {
   "cell_type": "code",
   "execution_count": 13,
   "id": "a0902535-9e57-49a4-bf04-5576ae375e05",
   "metadata": {},
   "outputs": [
    {
     "name": "stderr",
     "output_type": "stream",
     "text": [
      "Computing feature importance via permutation shuffling for 5 features using 204 rows with 5 shuffle sets...\n",
      "\t0.29s\t= Expected runtime (0.06s per shuffle set)\n",
      "\t0.31s\t= Actual runtime (Completed 5 of 5 shuffle sets)\n"
     ]
    },
    {
     "name": "stdout",
     "output_type": "stream",
     "text": [
      "                     importance    stddev   p_value  n  p99_high   p99_low\n",
      "wind_speed             0.322549  0.025329  0.000005  5  0.374703  0.270395\n",
      "temperature_celsius    0.012745  0.002685  0.000223  5  0.018273  0.007217\n",
      "feels_like_celsius     0.010784  0.004101  0.002091  5  0.019229  0.002340\n",
      "humidity               0.000000  0.000000  0.500000  5  0.000000  0.000000\n",
      "pressure               0.000000  0.000000  0.500000  5  0.000000  0.000000\n"
     ]
    }
   ],
   "source": [
    "# 🔍 View Feature Importance\n",
    "print(predictor.feature_importance(test_data))"
   ]
  },
  {
   "cell_type": "code",
   "execution_count": null,
   "id": "48c88dee-d133-4f62-b268-970267cb210b",
   "metadata": {},
   "outputs": [],
   "source": []
  }
 ],
 "metadata": {
  "kernelspec": {
   "display_name": "Python 3 (ipykernel)",
   "language": "python",
   "name": "python3"
  },
  "language_info": {
   "codemirror_mode": {
    "name": "ipython",
    "version": 3
   },
   "file_extension": ".py",
   "mimetype": "text/x-python",
   "name": "python",
   "nbconvert_exporter": "python",
   "pygments_lexer": "ipython3",
   "version": "3.11.11"
  }
 },
 "nbformat": 4,
 "nbformat_minor": 5
}
